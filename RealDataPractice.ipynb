{
 "cells": [
  {
   "cell_type": "markdown",
   "metadata": {},
   "source": [
    "### Real Data Practice"
   ]
  },
  {
   "cell_type": "markdown",
   "metadata": {},
   "source": [
    "I can't use DB2 Cloud, so I work directly with Python to edit the original csv files."
   ]
  },
  {
   "cell_type": "code",
   "execution_count": 5,
   "metadata": {},
   "outputs": [
    {
     "name": "stdout",
     "output_type": "stream",
     "text": [
      "Requirement already satisfied: pandas in c:\\users\\andru\\anaconda3\\lib\\site-packages (1.3.4)Note: you may need to restart the kernel to use updated packages.\n",
      "\n",
      "Requirement already satisfied: numpy>=1.17.3 in c:\\users\\andru\\anaconda3\\lib\\site-packages (from pandas) (1.20.3)\n",
      "Requirement already satisfied: pytz>=2017.3 in c:\\users\\andru\\anaconda3\\lib\\site-packages (from pandas) (2021.3)\n",
      "Requirement already satisfied: python-dateutil>=2.7.3 in c:\\users\\andru\\anaconda3\\lib\\site-packages (from pandas) (2.8.2)\n",
      "Requirement already satisfied: six>=1.5 in c:\\users\\andru\\anaconda3\\lib\\site-packages (from python-dateutil>=2.7.3->pandas) (1.16.0)\n"
     ]
    }
   ],
   "source": [
    "pip install pandas"
   ]
  },
  {
   "cell_type": "code",
   "execution_count": 6,
   "metadata": {},
   "outputs": [],
   "source": [
    "import pandas as pd"
   ]
  },
  {
   "cell_type": "code",
   "execution_count": 13,
   "metadata": {},
   "outputs": [],
   "source": [
    "CENSUS_DATA = pd.read_csv('ChicagoCensusData.csv')\n",
    "CHICAGO_PUBLIC_SCHOOLS = pd.read_csv('ChicagoPublicSchools.csv')\n",
    "CHICAGO_CRIME_DATA = pd.read_csv('ChicagoCrimeData.csv')"
   ]
  },
  {
   "cell_type": "code",
   "execution_count": 14,
   "metadata": {},
   "outputs": [
    {
     "name": "stdout",
     "output_type": "stream",
     "text": [
      "   COMMUNITY_AREA_NUMBER COMMUNITY_AREA_NAME  PERCENT_OF_HOUSING_CROWDED  \\\n",
      "0                    1.0         Rogers Park                         7.7   \n",
      "1                    2.0          West Ridge                         7.8   \n",
      "2                    3.0              Uptown                         3.8   \n",
      "3                    4.0      Lincoln Square                         3.4   \n",
      "4                    5.0        North Center                         0.3   \n",
      "\n",
      "   PERCENT_HOUSEHOLDS_BELOW_POVERTY  PERCENT_AGED_16__UNEMPLOYED  \\\n",
      "0                              23.6                          8.7   \n",
      "1                              17.2                          8.8   \n",
      "2                              24.0                          8.9   \n",
      "3                              10.9                          8.2   \n",
      "4                               7.5                          5.2   \n",
      "\n",
      "   PERCENT_AGED_25__WITHOUT_HIGH_SCHOOL_DIPLOMA  \\\n",
      "0                                          18.2   \n",
      "1                                          20.8   \n",
      "2                                          11.8   \n",
      "3                                          13.4   \n",
      "4                                           4.5   \n",
      "\n",
      "   PERCENT_AGED_UNDER_18_OR_OVER_64  PER_CAPITA_INCOME  HARDSHIP_INDEX  \n",
      "0                              27.5              23939            39.0  \n",
      "1                              38.5              23040            46.0  \n",
      "2                              22.2              35787            20.0  \n",
      "3                              25.5              37524            17.0  \n",
      "4                              26.2              57123             6.0  \n"
     ]
    }
   ],
   "source": [
    "print(CENSUS_DATA.head())\n"
   ]
  },
  {
   "cell_type": "code",
   "execution_count": 15,
   "metadata": {},
   "outputs": [
    {
     "name": "stdout",
     "output_type": "stream",
     "text": [
      "   School_ID                                     NAME_OF_SCHOOL  \\\n",
      "0     610038                  Abraham Lincoln Elementary School   \n",
      "1     610281  Adam Clayton Powell Paideia Community Academy ...   \n",
      "2     610185                Adlai E Stevenson Elementary School   \n",
      "3     609993                    Agustin Lara Elementary Academy   \n",
      "4     610513                      Air Force Academy High School   \n",
      "\n",
      "  Elementary, Middle, or High School         Street_Address     City State  \\\n",
      "0                                 ES        615 W Kemper Pl  Chicago    IL   \n",
      "1                                 ES  7511 S South Shore Dr  Chicago    IL   \n",
      "2                                 ES     8010 S Kostner Ave  Chicago    IL   \n",
      "3                                 ES     4619 S Wolcott Ave  Chicago    IL   \n",
      "4                                 HS        3630 S Wells St  Chicago    IL   \n",
      "\n",
      "   ZIP_Code    Phone_Number  \\\n",
      "0     60614  (773) 534-5720   \n",
      "1     60649  (773) 535-6650   \n",
      "2     60652  (773) 535-2280   \n",
      "3     60609  (773) 535-4389   \n",
      "4     60609  (773) 535-1590   \n",
      "\n",
      "                                                Link  \\\n",
      "0  http://schoolreports.cps.edu/SchoolProgressRep...   \n",
      "1  http://schoolreports.cps.edu/SchoolProgressRep...   \n",
      "2  http://schoolreports.cps.edu/SchoolProgressRep...   \n",
      "3  http://schoolreports.cps.edu/SchoolProgressRep...   \n",
      "4  http://schoolreports.cps.edu/SchoolProgressRep...   \n",
      "\n",
      "                      Network_Manager  ... Freshman_on_Track_Rate__  \\\n",
      "0        Fullerton Elementary Network  ...                      NDA   \n",
      "1           Skyway Elementary Network  ...                      NDA   \n",
      "2           Midway Elementary Network  ...                      NDA   \n",
      "3         Pershing Elementary Network  ...                      NDA   \n",
      "4  Southwest Side High School Network  ...                     91.8   \n",
      "\n",
      "  X_COORDINATE Y_COORDINATE   Latitude  Longitude COMMUNITY_AREA_NUMBER  \\\n",
      "0  1171699.458  1915829.428  41.924497 -87.644522                     7   \n",
      "1  1196129.985  1856209.466  41.760324 -87.556736                    43   \n",
      "2  1148427.165  1851012.215  41.747111 -87.731702                    70   \n",
      "3  1164504.290  1873959.199  41.809757 -87.672145                    61   \n",
      "4  1175177.622  1880745.126  41.828146 -87.632794                    34   \n",
      "\n",
      "  COMMUNITY_AREA_NAME  Ward Police_District                     Location  \n",
      "0        LINCOLN PARK    43              18  (41.92449696, -87.64452163)  \n",
      "1         SOUTH SHORE     7               4  (41.76032435, -87.55673627)  \n",
      "2             ASHBURN    13               8  (41.74711093, -87.73170248)  \n",
      "3            NEW CITY    20               9    (41.8097569, -87.6721446)  \n",
      "4       ARMOUR SQUARE    11               9  (41.82814609, -87.63279369)  \n",
      "\n",
      "[5 rows x 78 columns]\n"
     ]
    }
   ],
   "source": [
    "print(CHICAGO_PUBLIC_SCHOOLS.head())"
   ]
  },
  {
   "cell_type": "code",
   "execution_count": 16,
   "metadata": {},
   "outputs": [
    {
     "name": "stdout",
     "output_type": "stream",
     "text": [
      "         ID CASE_NUMBER        DATE                     BLOCK IUCR  \\\n",
      "0   3512276    HK587712  2004-08-28        047XX S KEDZIE AVE  890   \n",
      "1   3406613    HK456306  2004-06-26  009XX N CENTRAL PARK AVE  820   \n",
      "2   8002131    HT233595  2011-04-04        043XX S WABASH AVE  820   \n",
      "3   7903289    HT133522  2010-12-30      083XX S KINGSTON AVE  840   \n",
      "4  10402076    HZ138551  2016-02-02           033XX W 66TH ST  820   \n",
      "\n",
      "  PRIMARY_TYPE                    DESCRIPTION          LOCATION_DESCRIPTION  \\\n",
      "0        THEFT                  FROM BUILDING            SMALL RETAIL STORE   \n",
      "1        THEFT                 $500 AND UNDER                         OTHER   \n",
      "2        THEFT                 $500 AND UNDER  NURSING HOME/RETIREMENT HOME   \n",
      "3        THEFT  FINANCIAL ID THEFT: OVER $300                     RESIDENCE   \n",
      "4        THEFT                 $500 AND UNDER                         ALLEY   \n",
      "\n",
      "   ARREST  DOMESTIC  ...  DISTRICT  WARD  COMMUNITY_AREA_NUMBER  FBICODE  \\\n",
      "0   False     False  ...         9  14.0                   58.0        6   \n",
      "1   False     False  ...        11  27.0                   23.0        6   \n",
      "2   False     False  ...         2   3.0                   38.0        6   \n",
      "3   False     False  ...         4   7.0                   46.0        6   \n",
      "4   False     False  ...         8  15.0                   66.0        6   \n",
      "\n",
      "  X_COORDINATE  Y_COORDINATE  YEAR   LATITUDE  LONGITUDE  \\\n",
      "0    1155838.0     1873050.0  2004  41.807440 -87.703956   \n",
      "1    1152206.0     1906127.0  2004  41.898280 -87.716406   \n",
      "2    1177436.0     1876313.0  2011  41.815933 -87.624642   \n",
      "3    1194622.0     1850125.0  2010  41.743665 -87.562463   \n",
      "4    1155240.0     1860661.0  2016  41.773455 -87.706480   \n",
      "\n",
      "                        LOCATION  \n",
      "0    (41.8074405, -87.703955849)  \n",
      "1  (41.898279962, -87.716405505)  \n",
      "2  (41.815933131, -87.624642127)  \n",
      "3  (41.743665322, -87.562462756)  \n",
      "4  (41.773455295, -87.706480471)  \n",
      "\n",
      "[5 rows x 21 columns]\n"
     ]
    }
   ],
   "source": [
    "print(CHICAGO_CRIME_DATA.head())"
   ]
  },
  {
   "cell_type": "markdown",
   "metadata": {},
   "source": [
    "## Problems\n",
    "\n",
    "### Problem 1\n",
    "\n",
    "##### Find the total number of crimes recorded in the CRIME table\n"
   ]
  },
  {
   "cell_type": "code",
   "execution_count": 19,
   "metadata": {},
   "outputs": [
    {
     "data": {
      "text/plain": [
       "533"
      ]
     },
     "execution_count": 19,
     "metadata": {},
     "output_type": "execute_result"
    }
   ],
   "source": [
    "Num_Crimes = len(CHICAGO_CRIME_DATA)\n",
    "Num_Crimes"
   ]
  },
  {
   "cell_type": "markdown",
   "metadata": {},
   "source": [
    "### Problem 2\n",
    "\n",
    "##### List community areas with per capita income less than 11000\n"
   ]
  },
  {
   "cell_type": "code",
   "execution_count": 26,
   "metadata": {},
   "outputs": [
    {
     "data": {
      "text/plain": [
       "4"
      ]
     },
     "execution_count": 26,
     "metadata": {},
     "output_type": "execute_result"
    }
   ],
   "source": [
    "Poor_communities = CENSUS_DATA[CENSUS_DATA['PER_CAPITA_INCOME']<11000]\n",
    "Num_PoorCommunities = len(Poor_communities)\n",
    "#Poor_communities\n",
    "Num_PoorCommunities"
   ]
  },
  {
   "cell_type": "markdown",
   "metadata": {},
   "source": [
    "### Problem 3\n",
    "\n",
    "##### List all case numbers for crimes involving minors\n"
   ]
  },
  {
   "cell_type": "code",
   "execution_count": 65,
   "metadata": {},
   "outputs": [
    {
     "name": "stdout",
     "output_type": "stream",
     "text": [
      "          ID CASE_NUMBER        DATE                     BLOCK  IUCR  \\\n",
      "514  3987219    HL266884  2005-03-31          024XX N CLARK ST  2210   \n",
      "515  3266814    HK238408  2004-03-13  093XX S STONY ISLAND AVE  2230   \n",
      "\n",
      "             PRIMARY_TYPE                    DESCRIPTION LOCATION_DESCRIPTION  \\\n",
      "514  LIQUOR LAW VIOLATION  SELL/GIVE/DEL LIQUOR TO MINOR    CONVENIENCE STORE   \n",
      "515  LIQUOR LAW VIOLATION   ILLEGAL CONSUMPTION BY MINOR                ALLEY   \n",
      "\n",
      "     ARREST  DOMESTIC  ...  DISTRICT  WARD  COMMUNITY_AREA_NUMBER  FBICODE  \\\n",
      "514    True     False  ...        19  43.0                    7.0       22   \n",
      "515    True     False  ...         4   8.0                   48.0       22   \n",
      "\n",
      "    X_COORDINATE  Y_COORDINATE  YEAR   LATITUDE  LONGITUDE  \\\n",
      "514    1172680.0     1916483.0  2005  41.926269 -87.640899   \n",
      "515    1188539.0     1843379.0  2004  41.725301 -87.584966   \n",
      "\n",
      "                          LOCATION  \n",
      "514  (41.926268719, -87.640899336)  \n",
      "515   (41.72530099, -87.584965887)  \n",
      "\n",
      "[2 rows x 21 columns]\n"
     ]
    }
   ],
   "source": [
    "crimes_with_minor = CHICAGO_CRIME_DATA[CHICAGO_CRIME_DATA['DESCRIPTION'].str.contains('MINOR', case=False, na=False)]\n",
    "\n",
    "print(crimes_with_minor)"
   ]
  },
  {
   "cell_type": "markdown",
   "metadata": {},
   "source": [
    "### Problem 4\n",
    "\n",
    "#####  List all kidnapping crimes involving a child (children are not considered minors for the purposes of crime analysis)\n"
   ]
  },
  {
   "cell_type": "code",
   "execution_count": 56,
   "metadata": {},
   "outputs": [
    {
     "name": "stdout",
     "output_type": "stream",
     "text": [
      "          ID CASE_NUMBER        DATE                 BLOCK  IUCR PRIMARY_TYPE  \\\n",
      "520  5276766    HN144152  2007-01-26  050XX W VAN BUREN ST  1792   KIDNAPPING   \n",
      "\n",
      "                  DESCRIPTION LOCATION_DESCRIPTION  ARREST  DOMESTIC  ...  \\\n",
      "520  CHILD ABDUCTION/STRANGER               STREET   False     False  ...   \n",
      "\n",
      "     DISTRICT  WARD  COMMUNITY_AREA_NUMBER  FBICODE X_COORDINATE  \\\n",
      "520        15  29.0                   25.0       20    1143050.0   \n",
      "\n",
      "     Y_COORDINATE  YEAR   LATITUDE  LONGITUDE                       LOCATION  \n",
      "520     1897546.0  2007  41.874908 -87.750249  (41.874908413, -87.750249307)  \n",
      "\n",
      "[1 rows x 21 columns]\n"
     ]
    }
   ],
   "source": [
    "kidnapping_crimes = CHICAGO_CRIME_DATA[CHICAGO_CRIME_DATA['PRIMARY_TYPE'] == 'KIDNAPPING']\n",
    "\n",
    "# Print the filtered DataFrame.\n",
    "print(kidnapping_crimes)"
   ]
  },
  {
   "cell_type": "markdown",
   "metadata": {},
   "source": [
    "### Problem 5\n",
    "\n",
    "##### What kind of crimes were recorded at schools?\n"
   ]
  },
  {
   "cell_type": "code",
   "execution_count": 63,
   "metadata": {},
   "outputs": [
    {
     "data": {
      "text/plain": [
       "118              BATTERY\n",
       "183              BATTERY\n",
       "220      CRIMINAL DAMAGE\n",
       "263            NARCOTICS\n",
       "364              ASSAULT\n",
       "471    CRIMINAL TRESPASS\n",
       "Name: PRIMARY_TYPE, dtype: object"
      ]
     },
     "execution_count": 63,
     "metadata": {},
     "output_type": "execute_result"
    }
   ],
   "source": [
    "CHICAGO_CRIME_DATA[CHICAGO_CRIME_DATA['LOCATION_DESCRIPTION'] == \"SCHOOL, PUBLIC, GROUNDS\"]['PRIMARY_TYPE']"
   ]
  },
  {
   "cell_type": "markdown",
   "metadata": {},
   "source": [
    "### Problem 6\n",
    "\n",
    "#####  List the average safety score for all types of schools.\n"
   ]
  },
  {
   "cell_type": "code",
   "execution_count": 52,
   "metadata": {},
   "outputs": [
    {
     "data": {
      "text/plain": [
       "49.50487329434698"
      ]
     },
     "execution_count": 52,
     "metadata": {},
     "output_type": "execute_result"
    }
   ],
   "source": [
    "CHICAGO_PUBLIC_SCHOOLS['SAFETY_SCORE'].mean()"
   ]
  },
  {
   "cell_type": "markdown",
   "metadata": {},
   "source": [
    "### Problem 7\n",
    "\n",
    "##### List 5 community areas with highest % of households below poverty line.\n"
   ]
  },
  {
   "cell_type": "code",
   "execution_count": 28,
   "metadata": {},
   "outputs": [
    {
     "data": {
      "text/html": [
       "<div>\n",
       "<style scoped>\n",
       "    .dataframe tbody tr th:only-of-type {\n",
       "        vertical-align: middle;\n",
       "    }\n",
       "\n",
       "    .dataframe tbody tr th {\n",
       "        vertical-align: top;\n",
       "    }\n",
       "\n",
       "    .dataframe thead th {\n",
       "        text-align: right;\n",
       "    }\n",
       "</style>\n",
       "<table border=\"1\" class=\"dataframe\">\n",
       "  <thead>\n",
       "    <tr style=\"text-align: right;\">\n",
       "      <th></th>\n",
       "      <th>COMMUNITY_AREA_NUMBER</th>\n",
       "      <th>COMMUNITY_AREA_NAME</th>\n",
       "      <th>PERCENT_OF_HOUSING_CROWDED</th>\n",
       "      <th>PERCENT_HOUSEHOLDS_BELOW_POVERTY</th>\n",
       "      <th>PERCENT_AGED_16__UNEMPLOYED</th>\n",
       "      <th>PERCENT_AGED_25__WITHOUT_HIGH_SCHOOL_DIPLOMA</th>\n",
       "      <th>PERCENT_AGED_UNDER_18_OR_OVER_64</th>\n",
       "      <th>PER_CAPITA_INCOME</th>\n",
       "      <th>HARDSHIP_INDEX</th>\n",
       "    </tr>\n",
       "  </thead>\n",
       "  <tbody>\n",
       "    <tr>\n",
       "      <th>53</th>\n",
       "      <td>54.0</td>\n",
       "      <td>Riverdale</td>\n",
       "      <td>5.8</td>\n",
       "      <td>56.5</td>\n",
       "      <td>34.6</td>\n",
       "      <td>27.5</td>\n",
       "      <td>51.5</td>\n",
       "      <td>8201</td>\n",
       "      <td>98.0</td>\n",
       "    </tr>\n",
       "    <tr>\n",
       "      <th>36</th>\n",
       "      <td>37.0</td>\n",
       "      <td>Fuller Park</td>\n",
       "      <td>3.2</td>\n",
       "      <td>51.2</td>\n",
       "      <td>33.9</td>\n",
       "      <td>26.6</td>\n",
       "      <td>44.9</td>\n",
       "      <td>10432</td>\n",
       "      <td>97.0</td>\n",
       "    </tr>\n",
       "    <tr>\n",
       "      <th>67</th>\n",
       "      <td>68.0</td>\n",
       "      <td>Englewood</td>\n",
       "      <td>3.8</td>\n",
       "      <td>46.6</td>\n",
       "      <td>28.0</td>\n",
       "      <td>28.5</td>\n",
       "      <td>42.5</td>\n",
       "      <td>11888</td>\n",
       "      <td>94.0</td>\n",
       "    </tr>\n",
       "    <tr>\n",
       "      <th>28</th>\n",
       "      <td>29.0</td>\n",
       "      <td>North Lawndale</td>\n",
       "      <td>7.4</td>\n",
       "      <td>43.1</td>\n",
       "      <td>21.2</td>\n",
       "      <td>27.6</td>\n",
       "      <td>42.7</td>\n",
       "      <td>12034</td>\n",
       "      <td>87.0</td>\n",
       "    </tr>\n",
       "    <tr>\n",
       "      <th>26</th>\n",
       "      <td>27.0</td>\n",
       "      <td>East Garfield Park</td>\n",
       "      <td>8.2</td>\n",
       "      <td>42.4</td>\n",
       "      <td>19.6</td>\n",
       "      <td>21.3</td>\n",
       "      <td>43.2</td>\n",
       "      <td>12961</td>\n",
       "      <td>83.0</td>\n",
       "    </tr>\n",
       "  </tbody>\n",
       "</table>\n",
       "</div>"
      ],
      "text/plain": [
       "    COMMUNITY_AREA_NUMBER COMMUNITY_AREA_NAME  PERCENT_OF_HOUSING_CROWDED  \\\n",
       "53                   54.0           Riverdale                         5.8   \n",
       "36                   37.0         Fuller Park                         3.2   \n",
       "67                   68.0           Englewood                         3.8   \n",
       "28                   29.0      North Lawndale                         7.4   \n",
       "26                   27.0  East Garfield Park                         8.2   \n",
       "\n",
       "    PERCENT_HOUSEHOLDS_BELOW_POVERTY  PERCENT_AGED_16__UNEMPLOYED  \\\n",
       "53                              56.5                         34.6   \n",
       "36                              51.2                         33.9   \n",
       "67                              46.6                         28.0   \n",
       "28                              43.1                         21.2   \n",
       "26                              42.4                         19.6   \n",
       "\n",
       "    PERCENT_AGED_25__WITHOUT_HIGH_SCHOOL_DIPLOMA  \\\n",
       "53                                          27.5   \n",
       "36                                          26.6   \n",
       "67                                          28.5   \n",
       "28                                          27.6   \n",
       "26                                          21.3   \n",
       "\n",
       "    PERCENT_AGED_UNDER_18_OR_OVER_64  PER_CAPITA_INCOME  HARDSHIP_INDEX  \n",
       "53                              51.5               8201            98.0  \n",
       "36                              44.9              10432            97.0  \n",
       "67                              42.5              11888            94.0  \n",
       "28                              42.7              12034            87.0  \n",
       "26                              43.2              12961            83.0  "
      ]
     },
     "execution_count": 28,
     "metadata": {},
     "output_type": "execute_result"
    }
   ],
   "source": [
    "Poor_communities = CENSUS_DATA.sort_values(by='PERCENT_HOUSEHOLDS_BELOW_POVERTY', ascending=False)\n",
    "\n",
    "Poor_communities.head()\n"
   ]
  },
  {
   "cell_type": "markdown",
   "metadata": {},
   "source": [
    "### Problem 8\n",
    "\n",
    "##### Which community area(number) is most crime prone?\n"
   ]
  },
  {
   "cell_type": "code",
   "execution_count": 32,
   "metadata": {},
   "outputs": [
    {
     "data": {
      "text/plain": [
       "25.0"
      ]
     },
     "execution_count": 32,
     "metadata": {},
     "output_type": "execute_result"
    }
   ],
   "source": [
    "Criminal_areas = CHICAGO_CRIME_DATA['COMMUNITY_AREA_NUMBER'].value_counts()\n",
    "Criminal_areas.idxmax()\n"
   ]
  },
  {
   "cell_type": "markdown",
   "metadata": {},
   "source": [
    "### Problem 9\n",
    "\n",
    "##### Use a sub-query to find the name of the community area with highest hardship index.\n"
   ]
  },
  {
   "cell_type": "code",
   "execution_count": 36,
   "metadata": {},
   "outputs": [
    {
     "name": "stdout",
     "output_type": "stream",
     "text": [
      "0    Rogers Park\n",
      "Name: COMMUNITY_AREA_NAME, dtype: object\n"
     ]
    }
   ],
   "source": [
    "Hardship_areas = CENSUS_DATA['HARDSHIP_INDEX'].value_counts()\n",
    "Highest_hardship_area = Hardship_areas.idxmax()\n",
    "highest_hardship_community = CENSUS_DATA[CENSUS_DATA['HARDSHIP_INDEX'] == Highest_hardship_area]['COMMUNITY_AREA_NAME']\n",
    "\n",
    "print(highest_hardship_community)\n"
   ]
  },
  {
   "cell_type": "markdown",
   "metadata": {},
   "source": [
    "### Problem 10\n",
    "\n",
    "##### Use a sub-query to determine the Community Area Name with most number of crimes?\n"
   ]
  },
  {
   "cell_type": "code",
   "execution_count": 50,
   "metadata": {},
   "outputs": [
    {
     "name": "stdout",
     "output_type": "stream",
     "text": [
      "24    Austin\n",
      "Name: COMMUNITY_AREA_NAME, dtype: object\n"
     ]
    }
   ],
   "source": [
    "Criminal_areas = CHICAGO_CRIME_DATA['COMMUNITY_AREA_NUMBER'].value_counts()\n",
    "Highest_criminal_area = Criminal_areas.idxmax()\n",
    "highest_criminal_community = CENSUS_DATA[CENSUS_DATA['COMMUNITY_AREA_NUMBER'] == Highest_criminal_area]['COMMUNITY_AREA_NAME']\n",
    "\n",
    "print(highest_criminal_community)"
   ]
  }
 ],
 "metadata": {
  "kernelspec": {
   "display_name": "Python 3 (ipykernel)",
   "language": "python",
   "name": "python3"
  },
  "language_info": {
   "codemirror_mode": {
    "name": "ipython",
    "version": 3
   },
   "file_extension": ".py",
   "mimetype": "text/x-python",
   "name": "python",
   "nbconvert_exporter": "python",
   "pygments_lexer": "ipython3",
   "version": "3.9.7"
  }
 },
 "nbformat": 4,
 "nbformat_minor": 4
}
